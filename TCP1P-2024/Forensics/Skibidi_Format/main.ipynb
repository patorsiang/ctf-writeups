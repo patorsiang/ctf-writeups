{
 "cells": [
  {
   "cell_type": "markdown",
   "metadata": {},
   "source": [
    "Open the File:"
   ]
  },
  {
   "cell_type": "code",
   "execution_count": 14,
   "metadata": {},
   "outputs": [],
   "source": [
    "with open('./dist/suisei.skibidi', 'rb') as file:\n",
    "    data = file.read()\n"
   ]
  },
  {
   "cell_type": "code",
   "execution_count": 15,
   "metadata": {},
   "outputs": [],
   "source": [
    "# Reading the first 58 bytes (header)\n",
    "header = data[:58]\n",
    "magic_number = header[:4].decode()  # SKB1\n",
    "width = int.from_bytes(header[4:8], 'little')  # Image width\n",
    "height = int.from_bytes(header[8:12], 'little')  # Image height\n",
    "color_channels = header[12]  # Number of color channels\n",
    "compression_method = header[13]  # Compression method (1 for Zstandard)\n",
    "aes_key = header[14:46]  # AES-256 Key (32 bytes)\n",
    "aes_iv = header[46:58]  # AES IV (12 bytes)\n"
   ]
  },
  {
   "cell_type": "code",
   "execution_count": 16,
   "metadata": {},
   "outputs": [],
   "source": [
    "from Crypto.Cipher import AES\n",
    "\n",
    "# Create AES-GCM cipher object\n",
    "cipher = AES.new(aes_key, AES.MODE_GCM, nonce=aes_iv)\n",
    "\n",
    "# Decrypt the encrypted data (everything after the header)\n",
    "encrypted_data = data[58:]\n",
    "decrypted_data = cipher.decrypt(encrypted_data)\n"
   ]
  },
  {
   "cell_type": "code",
   "execution_count": 19,
   "metadata": {},
   "outputs": [],
   "source": [
    "import zstandard as zstd\n",
    "\n",
    "channels = 4\n",
    "decompressed_size = width * height * channels  # Example for image size\n",
    "decompressor = zstd.ZstdDecompressor()\n",
    "pixel_data = decompressor.decompress(decrypted_data, decompressed_size)"
   ]
  },
  {
   "cell_type": "code",
   "execution_count": 20,
   "metadata": {},
   "outputs": [],
   "source": [
    "from PIL import Image\n",
    "import numpy as np\n",
    "\n",
    "# Reshape pixel data based on width, height, and channels\n",
    "pixel_array = np.frombuffer(pixel_data, dtype=np.uint8)\n",
    "pixel_array = pixel_array.reshape((height, width, color_channels))\n",
    "\n",
    "# Create an image object\n",
    "img = Image.fromarray(pixel_array)\n",
    "\n",
    "# Save or display the image\n",
    "img.save('output_image.png')\n",
    "img.show()\n"
   ]
  },
  {
   "cell_type": "markdown",
   "metadata": {},
   "source": [
    "\n",
    "![alt text](https://github.com/patorsiang/ctf-writeups/blob/main/TCP1P-2024/Forensics/Skibidi_Format/output_image.png?raw=true)\n",
    "\n",
    "TCP1P{S3ems_L1k3_Sk1b1dI_T0il3t_h4s_C0nsUm3d_My_fr13nD_U72Syd6}"
   ]
  }
 ],
 "metadata": {
  "kernelspec": {
   "display_name": "base",
   "language": "python",
   "name": "python3"
  },
  "language_info": {
   "codemirror_mode": {
    "name": "ipython",
    "version": 3
   },
   "file_extension": ".py",
   "mimetype": "text/x-python",
   "name": "python",
   "nbconvert_exporter": "python",
   "pygments_lexer": "ipython3",
   "version": "3.12.2"
  }
 },
 "nbformat": 4,
 "nbformat_minor": 2
}
